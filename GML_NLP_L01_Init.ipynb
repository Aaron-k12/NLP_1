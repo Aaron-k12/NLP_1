{
  "nbformat": 4,
  "nbformat_minor": 0,
  "metadata": {
    "colab": {
      "name": "GML NLP L01 Init.ipynb",
      "provenance": [],
      "collapsed_sections": []
    },
    "kernelspec": {
      "name": "python3",
      "display_name": "Python 3"
    },
    "language_info": {
      "name": "python"
    }
  },
  "cells": [
    {
      "cell_type": "markdown",
      "source": [
        "# Google ML - Natural Language Processing\n",
        "## Tokenization and Sequence generation"
      ],
      "metadata": {
        "id": "NndKIixstm5b"
      }
    },
    {
      "cell_type": "markdown",
      "source": [
        "## Tokenzation\n",
        "\n",
        "This generally involves breaking a sentence down into its constituent words.\n",
        "\n",
        "Tensorflow's tokenizer takes this a step further by representing the individual words by numerical values to make them easier for use in training a neural network to perform NLP."
      ],
      "metadata": {
        "id": "mlYJN5X3t3FK"
      }
    },
    {
      "cell_type": "code",
      "execution_count": null,
      "metadata": {
        "id": "rmErXKhNyumF"
      },
      "outputs": [],
      "source": [
        "from tensorflow.keras.preprocessing.text import Tokenizer\n",
        "\n",
        "\n",
        "sentences = [\n",
        "    'i know basic programming',\n",
        "    'I know Matlab programming.',\n",
        "    'You know python programming!',\n",
        "    'Do you love the python programming simplicity?',\n",
        "    'I expertly know python programming',\n",
        "    'Programming in python beats programming in Malbolge.'\n",
        "]"
      ]
    },
    {
      "cell_type": "code",
      "source": [
        "# tokenize and generate word index"
      ],
      "metadata": {
        "id": "fyrKdJu2Z1LR"
      },
      "execution_count": null,
      "outputs": []
    },
    {
      "cell_type": "markdown",
      "source": [
        "## Sequence Generation\n",
        "\n",
        "Creating sequences of numbers from sentences."
      ],
      "metadata": {
        "id": "WxOzIFDQxKux"
      }
    },
    {
      "cell_type": "code",
      "source": [
        "# tokenize and generate word index"
      ],
      "metadata": {
        "id": "15Gir2PkZtNy"
      },
      "execution_count": null,
      "outputs": []
    },
    {
      "cell_type": "code",
      "source": [
        "# representing the sentences as token sequences."
      ],
      "metadata": {
        "id": "_Z9FiJj3xi2J"
      },
      "execution_count": null,
      "outputs": []
    },
    {
      "cell_type": "code",
      "source": [
        "from tensorflow.keras.preprocessing.sequence import pad_sequences"
      ],
      "metadata": {
        "id": "GZmixcLUyulg"
      },
      "execution_count": null,
      "outputs": []
    },
    {
      "cell_type": "code",
      "source": [
        "# padding sequences to uniform size"
      ],
      "metadata": {
        "id": "HIGMQIBG1R0H"
      },
      "execution_count": null,
      "outputs": []
    },
    {
      "cell_type": "markdown",
      "source": [
        "## The Out-of-Vocabulary (OOV) token"
      ],
      "metadata": {
        "id": "iVzPNSptOgzh"
      }
    },
    {
      "cell_type": "code",
      "source": [
        "# Test the tokenizer without oov on new data\n",
        "test_data = sentences[4:]"
      ],
      "metadata": {
        "id": "M3cWgbxK2l96"
      },
      "execution_count": null,
      "outputs": []
    }
  ]
}